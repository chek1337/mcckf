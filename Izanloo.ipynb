{
 "cells": [
  {
   "cell_type": "code",
   "execution_count": 18,
   "metadata": {},
   "outputs": [],
   "source": [
    "import torch as t\n",
    "import matplotlib.pyplot as plt\n",
    "import random\n",
    "from filter import Filter"
   ]
  },
  {
   "cell_type": "code",
   "execution_count": 19,
   "metadata": {},
   "outputs": [
    {
     "data": {
      "text/plain": [
       "<torch._C.Generator at 0x7f27c00bf810>"
      ]
     },
     "execution_count": 19,
     "metadata": {},
     "output_type": "execute_result"
    }
   ],
   "source": [
    "# Params to change\n",
    "dt = 0.1\n",
    "sigma = 2\n",
    "x_0 = t.tensor([1, 1, 0, 0], dtype=t.float64)\n",
    "mu = t.tensor([0, 0, 0, 0], dtype=t.float64)\n",
    "mu_y = t.tensor([0, 0], dtype=t.float64)\n",
    "steps = 150\n",
    "k_shots = 25\n",
    "min_max = 100\n",
    "seed = 987\n",
    "\n",
    "random.seed(seed)\n",
    "t.manual_seed(987)"
   ]
  },
  {
   "cell_type": "code",
   "execution_count": 20,
   "metadata": {},
   "outputs": [],
   "source": [
    "filter = Filter(dim_x=4, dim_y=2)"
   ]
  },
  {
   "cell_type": "code",
   "execution_count": 21,
   "metadata": {},
   "outputs": [],
   "source": [
    "F = t.tensor([[1, 0, dt,  0],\n",
    "              [0, 1,  0, dt],\n",
    "              [0, 0,  1,  0],\n",
    "              [0, 0,  0,  1]], dtype=t.float64)\n",
    "filter.F = F"
   ]
  },
  {
   "cell_type": "code",
   "execution_count": 22,
   "metadata": {},
   "outputs": [],
   "source": [
    "filter.sigma = sigma"
   ]
  },
  {
   "cell_type": "code",
   "execution_count": 23,
   "metadata": {},
   "outputs": [],
   "source": [
    "theta = t.tensor([t.pi/3], dtype=t.float64)\n",
    "accel_north = t.sin(theta)\n",
    "accel_east = t.cos(theta)\n",
    "B = t.tensor([0, 0, accel_north*dt,  accel_east*dt], dtype=t.float64)\n",
    "filter.B = B"
   ]
  },
  {
   "cell_type": "code",
   "execution_count": 24,
   "metadata": {},
   "outputs": [],
   "source": [
    "H = t.tensor([[1, 0, 0, 0],\n",
    "              [0, 1, 0, 0]], dtype=t.float64)\n",
    "filter.H = H"
   ]
  },
  {
   "cell_type": "code",
   "execution_count": 25,
   "metadata": {},
   "outputs": [],
   "source": [
    "q = 0.1 \n",
    "diag_Q = t.tensor([q, q, q, q], dtype=t.float64)\n",
    "Q = t.diag(diag_Q)\n",
    "filter.Q = Q"
   ]
  },
  {
   "cell_type": "code",
   "execution_count": 26,
   "metadata": {},
   "outputs": [],
   "source": [
    "r = 0.1\n",
    "diag_R = t.tensor([r, r], dtype=t.float64)\n",
    "R = t.diag(diag_R)\n",
    "filter.R = R"
   ]
  },
  {
   "cell_type": "code",
   "execution_count": 27,
   "metadata": {},
   "outputs": [],
   "source": [
    "diag_P_0 = t.tensor([4, 4, 3, 3], dtype=t.float64)\n",
    "P_0 = t.diag(diag_P_0)\n",
    "filter.P_0 = P_0"
   ]
  },
  {
   "cell_type": "code",
   "execution_count": 28,
   "metadata": {},
   "outputs": [],
   "source": [
    "def generate_x_state_clean(F, x_0, B, steps):\n",
    "    n = x_0.shape[0]\n",
    "    x_state = t.zeros((n, steps), dtype=t.float64)\n",
    "    x_state[:, 0] = x_0\n",
    "    u = 1\n",
    "    \n",
    "    for k in range (1, steps):\n",
    "        x_state[:, k] = F @ x_state[:, k-1] + B*u\n",
    "\n",
    "    return x_state"
   ]
  },
  {
   "cell_type": "code",
   "execution_count": 29,
   "metadata": {},
   "outputs": [],
   "source": [
    "def generate_y_observation_clean(H, x):\n",
    "    m = H.shape[0]\n",
    "    steps = x.shape[1]\n",
    "    y_obs = t.zeros((m, steps), dtype=t.float64)\n",
    "\n",
    "    for k in range (1, steps):\n",
    "        y_obs[:, k] = H @ x[:, k - 1]\n",
    "    \n",
    "    return y_obs"
   ]
  },
  {
   "cell_type": "code",
   "execution_count": 30,
   "metadata": {},
   "outputs": [],
   "source": [
    "def generate_shot_noise(vec, k_shots, min_max):\n",
    "    num_of_params = vec.shape[0]\n",
    "    steps = vec.shape[1]\n",
    "    vec_shots = t.zeros(vec.shape, dtype=t.float64)\n",
    "\n",
    "    min = -min_max\n",
    "    max = min_max\n",
    "\n",
    "    vec_shot_ind = random.sample(range(0, steps), k_shots)\n",
    "    vec_shot_val = min + (max - min) * t.rand(k_shots, dtype=t.float64)\n",
    "    \n",
    "    for id, k in enumerate(vec_shot_ind):\n",
    "        for i in range(num_of_params):\n",
    "            vec_shots[i, k] += vec_shot_val[id]\n",
    "\n",
    "    return vec_shots\n"
   ]
  },
  {
   "cell_type": "code",
   "execution_count": 31,
   "metadata": {},
   "outputs": [],
   "source": [
    "def generate_normal_noise(steps, mu, COV):\n",
    "    mvn = t.distributions.MultivariateNormal(mu, covariance_matrix=COV)\n",
    "    N_mu_Q = mvn.sample((steps,)).T\n",
    "    return N_mu_Q"
   ]
  },
  {
   "cell_type": "code",
   "execution_count": 32,
   "metadata": {},
   "outputs": [],
   "source": [
    "COV = t.diag(t.tensor([0.1, 0.1], dtype=t.float64))\n",
    "x = generate_x_state_clean(F, x_0, B, steps)\n",
    "y = generate_y_observation_clean(H, x)\n",
    "y += generate_normal_noise(steps, mu_y, R) \n",
    "y += generate_shot_noise(y, k_shots, min_max)"
   ]
  },
  {
   "cell_type": "code",
   "execution_count": 33,
   "metadata": {},
   "outputs": [],
   "source": [
    "filtered_KF = filter(y, \"KF\")\n",
    "filtered_MCF = filter(y, \"MCF\")\n",
    "filtered_MCCKF = filter(y, \"MCCKF\")"
   ]
  },
  {
   "cell_type": "code",
   "execution_count": 34,
   "metadata": {},
   "outputs": [
    {
     "data": {
      "text/plain": [
       "[<matplotlib.lines.Line2D at 0x7f26ae02bef0>]"
      ]
     },
     "execution_count": 34,
     "metadata": {},
     "output_type": "execute_result"
    }
   ],
   "source": [
    "# %matplotlib inline\n",
    "%matplotlib qt\n",
    "time = t.arange(0, steps*dt, dt)\n",
    "\n",
    "plt.figure(figsize=(10, 5))  # Размер графика\n",
    "plt.plot(time.numpy(), x[0, :].numpy(), color='black')\n",
    "plt.plot(time.numpy(), y[0, :].numpy(), color='red')\n",
    "plt.plot(time.numpy(), filtered_KF[0, :].numpy(), color='green')\n",
    "plt.plot(time.numpy(), filtered_MCF[0, :].numpy(), color='orange')\n",
    "plt.plot(time.numpy(), filtered_MCCKF[0, :].numpy(), color='blue')"
   ]
  }
 ],
 "metadata": {
  "kernelspec": {
   "display_name": "base",
   "language": "python",
   "name": "python3"
  },
  "language_info": {
   "codemirror_mode": {
    "name": "ipython",
    "version": 3
   },
   "file_extension": ".py",
   "mimetype": "text/x-python",
   "name": "python",
   "nbconvert_exporter": "python",
   "pygments_lexer": "ipython3",
   "version": "3.12.2"
  }
 },
 "nbformat": 4,
 "nbformat_minor": 2
}
